{
 "cells": [
  {
   "cell_type": "code",
   "execution_count": 1,
   "id": "1272ca42",
   "metadata": {},
   "outputs": [],
   "source": [
    "import pandas as pd\n",
    "import numpy as np\n",
    "import matplotlib.pyplot as plt\n",
    "import seaborn as sns\n",
    "import warnings\n",
    "warnings.filterwarnings('ignore')"
   ]
  },
  {
   "cell_type": "code",
   "execution_count": 2,
   "id": "04578a2f",
   "metadata": {},
   "outputs": [],
   "source": [
    "df=pd.read_csv(r'C:\\DS Materials\\Projects\\Python-ML\\8..NB\\Python_Project_8_Nai.csv')"
   ]
  },
  {
   "cell_type": "code",
   "execution_count": 3,
   "id": "e7ae57e2",
   "metadata": {},
   "outputs": [
    {
     "data": {
      "text/html": [
       "<div>\n",
       "<style scoped>\n",
       "    .dataframe tbody tr th:only-of-type {\n",
       "        vertical-align: middle;\n",
       "    }\n",
       "\n",
       "    .dataframe tbody tr th {\n",
       "        vertical-align: top;\n",
       "    }\n",
       "\n",
       "    .dataframe thead th {\n",
       "        text-align: right;\n",
       "    }\n",
       "</style>\n",
       "<table border=\"1\" class=\"dataframe\">\n",
       "  <thead>\n",
       "    <tr style=\"text-align: right;\">\n",
       "      <th></th>\n",
       "      <th>ID</th>\n",
       "      <th>LIMIT_BAL</th>\n",
       "      <th>AGE</th>\n",
       "      <th>BILL_AMT1</th>\n",
       "      <th>BILL_AMT2</th>\n",
       "      <th>BILL_AMT3</th>\n",
       "      <th>BILL_AMT4</th>\n",
       "      <th>BILL_AMT5</th>\n",
       "      <th>BILL_AMT6</th>\n",
       "      <th>PAY_AMT1</th>\n",
       "      <th>PAY_AMT2</th>\n",
       "      <th>PAY_AMT3</th>\n",
       "      <th>PAY_AMT4</th>\n",
       "      <th>PAY_AMT5</th>\n",
       "      <th>PAY_AMT6</th>\n",
       "      <th>Default Status</th>\n",
       "    </tr>\n",
       "  </thead>\n",
       "  <tbody>\n",
       "    <tr>\n",
       "      <th>0</th>\n",
       "      <td>1</td>\n",
       "      <td>2.0</td>\n",
       "      <td>24</td>\n",
       "      <td>3913.0</td>\n",
       "      <td>312.0</td>\n",
       "      <td>689.0</td>\n",
       "      <td>NaN</td>\n",
       "      <td>NaN</td>\n",
       "      <td>NaN</td>\n",
       "      <td>NaN</td>\n",
       "      <td>689.0</td>\n",
       "      <td>NaN</td>\n",
       "      <td>NaN</td>\n",
       "      <td>NaN</td>\n",
       "      <td>NaN</td>\n",
       "      <td>Default</td>\n",
       "    </tr>\n",
       "    <tr>\n",
       "      <th>1</th>\n",
       "      <td>2</td>\n",
       "      <td>12.0</td>\n",
       "      <td>26</td>\n",
       "      <td>2682.0</td>\n",
       "      <td>1725.0</td>\n",
       "      <td>2682.0</td>\n",
       "      <td>3272.0</td>\n",
       "      <td>3455.0</td>\n",
       "      <td>3261.0</td>\n",
       "      <td>NaN</td>\n",
       "      <td>1.0</td>\n",
       "      <td>1.0</td>\n",
       "      <td>1.0</td>\n",
       "      <td>NaN</td>\n",
       "      <td>2.0</td>\n",
       "      <td>Default</td>\n",
       "    </tr>\n",
       "    <tr>\n",
       "      <th>2</th>\n",
       "      <td>3</td>\n",
       "      <td>9.0</td>\n",
       "      <td>34</td>\n",
       "      <td>29239.0</td>\n",
       "      <td>1427.0</td>\n",
       "      <td>13559.0</td>\n",
       "      <td>14331.0</td>\n",
       "      <td>14948.0</td>\n",
       "      <td>15549.0</td>\n",
       "      <td>1518.0</td>\n",
       "      <td>15.0</td>\n",
       "      <td>1.0</td>\n",
       "      <td>1.0</td>\n",
       "      <td>1.0</td>\n",
       "      <td>5.0</td>\n",
       "      <td>Not Default</td>\n",
       "    </tr>\n",
       "    <tr>\n",
       "      <th>3</th>\n",
       "      <td>4</td>\n",
       "      <td>5.0</td>\n",
       "      <td>37</td>\n",
       "      <td>4699.0</td>\n",
       "      <td>48233.0</td>\n",
       "      <td>49291.0</td>\n",
       "      <td>28314.0</td>\n",
       "      <td>28959.0</td>\n",
       "      <td>29547.0</td>\n",
       "      <td>2.0</td>\n",
       "      <td>219.0</td>\n",
       "      <td>12.0</td>\n",
       "      <td>11.0</td>\n",
       "      <td>169.0</td>\n",
       "      <td>1.0</td>\n",
       "      <td>Not Default</td>\n",
       "    </tr>\n",
       "    <tr>\n",
       "      <th>4</th>\n",
       "      <td>5</td>\n",
       "      <td>5.0</td>\n",
       "      <td>57</td>\n",
       "      <td>8617.0</td>\n",
       "      <td>567.0</td>\n",
       "      <td>35835.0</td>\n",
       "      <td>294.0</td>\n",
       "      <td>19146.0</td>\n",
       "      <td>19131.0</td>\n",
       "      <td>2.0</td>\n",
       "      <td>36681.0</td>\n",
       "      <td>1.0</td>\n",
       "      <td>9.0</td>\n",
       "      <td>689.0</td>\n",
       "      <td>679.0</td>\n",
       "      <td>Not Default</td>\n",
       "    </tr>\n",
       "  </tbody>\n",
       "</table>\n",
       "</div>"
      ],
      "text/plain": [
       "   ID  LIMIT_BAL  AGE  BILL_AMT1  BILL_AMT2  BILL_AMT3  BILL_AMT4  BILL_AMT5  \\\n",
       "0   1        2.0   24     3913.0      312.0      689.0        NaN        NaN   \n",
       "1   2       12.0   26     2682.0     1725.0     2682.0     3272.0     3455.0   \n",
       "2   3        9.0   34    29239.0     1427.0    13559.0    14331.0    14948.0   \n",
       "3   4        5.0   37     4699.0    48233.0    49291.0    28314.0    28959.0   \n",
       "4   5        5.0   57     8617.0      567.0    35835.0      294.0    19146.0   \n",
       "\n",
       "   BILL_AMT6  PAY_AMT1  PAY_AMT2  PAY_AMT3  PAY_AMT4  PAY_AMT5  PAY_AMT6  \\\n",
       "0        NaN       NaN     689.0       NaN       NaN       NaN       NaN   \n",
       "1     3261.0       NaN       1.0       1.0       1.0       NaN       2.0   \n",
       "2    15549.0    1518.0      15.0       1.0       1.0       1.0       5.0   \n",
       "3    29547.0       2.0     219.0      12.0      11.0     169.0       1.0   \n",
       "4    19131.0       2.0   36681.0       1.0       9.0     689.0     679.0   \n",
       "\n",
       "  Default Status  \n",
       "0        Default  \n",
       "1        Default  \n",
       "2    Not Default  \n",
       "3    Not Default  \n",
       "4    Not Default  "
      ]
     },
     "execution_count": 3,
     "metadata": {},
     "output_type": "execute_result"
    }
   ],
   "source": [
    "df.head()"
   ]
  },
  {
   "cell_type": "code",
   "execution_count": 4,
   "id": "c1aba479",
   "metadata": {},
   "outputs": [
    {
     "data": {
      "text/plain": [
       "(30000, 16)"
      ]
     },
     "execution_count": 4,
     "metadata": {},
     "output_type": "execute_result"
    }
   ],
   "source": [
    "df.shape"
   ]
  },
  {
   "cell_type": "code",
   "execution_count": 5,
   "id": "9e0b99a0",
   "metadata": {},
   "outputs": [
    {
     "data": {
      "text/plain": [
       "ID                   0\n",
       "LIMIT_BAL            0\n",
       "AGE                  0\n",
       "BILL_AMT1         2008\n",
       "BILL_AMT2         2506\n",
       "BILL_AMT3         2870\n",
       "BILL_AMT4         3195\n",
       "BILL_AMT5         3506\n",
       "BILL_AMT6         4020\n",
       "PAY_AMT1          5249\n",
       "PAY_AMT2          5396\n",
       "PAY_AMT3          5968\n",
       "PAY_AMT4          6408\n",
       "PAY_AMT5          6703\n",
       "PAY_AMT6          7173\n",
       "Default Status       0\n",
       "dtype: int64"
      ]
     },
     "execution_count": 5,
     "metadata": {},
     "output_type": "execute_result"
    }
   ],
   "source": [
    "df.isnull().sum()"
   ]
  },
  {
   "cell_type": "code",
   "execution_count": 6,
   "id": "beb7b113",
   "metadata": {},
   "outputs": [
    {
     "data": {
      "text/plain": [
       "Index(['ID', 'LIMIT_BAL', 'AGE', 'BILL_AMT1', 'BILL_AMT2', 'BILL_AMT3',\n",
       "       'BILL_AMT4', 'BILL_AMT5', 'BILL_AMT6', 'PAY_AMT1', 'PAY_AMT2',\n",
       "       'PAY_AMT3', 'PAY_AMT4', 'PAY_AMT5', 'PAY_AMT6', 'Default Status'],\n",
       "      dtype='object')"
      ]
     },
     "execution_count": 6,
     "metadata": {},
     "output_type": "execute_result"
    }
   ],
   "source": [
    "df.columns"
   ]
  },
  {
   "cell_type": "code",
   "execution_count": 7,
   "id": "c528fb5c",
   "metadata": {},
   "outputs": [],
   "source": [
    "listt = ['BILL_AMT1', 'BILL_AMT2', 'BILL_AMT3',\n",
    "       'BILL_AMT4', 'BILL_AMT5', 'BILL_AMT6', 'PAY_AMT1', 'PAY_AMT2',\n",
    "       'PAY_AMT3', 'PAY_AMT4', 'PAY_AMT5', 'PAY_AMT6']"
   ]
  },
  {
   "cell_type": "code",
   "execution_count": 8,
   "id": "84149ccd",
   "metadata": {},
   "outputs": [],
   "source": [
    "for i in listt:\n",
    "    df[i]=df[i].fillna(df[i].mean())"
   ]
  },
  {
   "cell_type": "code",
   "execution_count": 9,
   "id": "ab2ae5a9",
   "metadata": {
    "scrolled": true
   },
   "outputs": [
    {
     "data": {
      "text/plain": [
       "ID                0\n",
       "LIMIT_BAL         0\n",
       "AGE               0\n",
       "BILL_AMT1         0\n",
       "BILL_AMT2         0\n",
       "BILL_AMT3         0\n",
       "BILL_AMT4         0\n",
       "BILL_AMT5         0\n",
       "BILL_AMT6         0\n",
       "PAY_AMT1          0\n",
       "PAY_AMT2          0\n",
       "PAY_AMT3          0\n",
       "PAY_AMT4          0\n",
       "PAY_AMT5          0\n",
       "PAY_AMT6          0\n",
       "Default Status    0\n",
       "dtype: int64"
      ]
     },
     "execution_count": 9,
     "metadata": {},
     "output_type": "execute_result"
    }
   ],
   "source": [
    "df.isnull().sum()"
   ]
  },
  {
   "cell_type": "code",
   "execution_count": 11,
   "id": "787db20c",
   "metadata": {},
   "outputs": [
    {
     "name": "stdout",
     "output_type": "stream",
     "text": [
      "<class 'pandas.core.frame.DataFrame'>\n",
      "RangeIndex: 30000 entries, 0 to 29999\n",
      "Data columns (total 16 columns):\n",
      " #   Column          Non-Null Count  Dtype  \n",
      "---  ------          --------------  -----  \n",
      " 0   ID              30000 non-null  int64  \n",
      " 1   LIMIT_BAL       30000 non-null  float64\n",
      " 2   AGE             30000 non-null  int64  \n",
      " 3   BILL_AMT1       30000 non-null  float64\n",
      " 4   BILL_AMT2       30000 non-null  float64\n",
      " 5   BILL_AMT3       30000 non-null  float64\n",
      " 6   BILL_AMT4       30000 non-null  float64\n",
      " 7   BILL_AMT5       30000 non-null  float64\n",
      " 8   BILL_AMT6       30000 non-null  float64\n",
      " 9   PAY_AMT1        30000 non-null  float64\n",
      " 10  PAY_AMT2        30000 non-null  float64\n",
      " 11  PAY_AMT3        30000 non-null  float64\n",
      " 12  PAY_AMT4        30000 non-null  float64\n",
      " 13  PAY_AMT5        30000 non-null  float64\n",
      " 14  PAY_AMT6        30000 non-null  float64\n",
      " 15  Default Status  30000 non-null  object \n",
      "dtypes: float64(13), int64(2), object(1)\n",
      "memory usage: 3.7+ MB\n"
     ]
    }
   ],
   "source": [
    "df.info()"
   ]
  },
  {
   "cell_type": "code",
   "execution_count": 13,
   "id": "2cbb4880",
   "metadata": {},
   "outputs": [
    {
     "data": {
      "text/html": [
       "<div>\n",
       "<style scoped>\n",
       "    .dataframe tbody tr th:only-of-type {\n",
       "        vertical-align: middle;\n",
       "    }\n",
       "\n",
       "    .dataframe tbody tr th {\n",
       "        vertical-align: top;\n",
       "    }\n",
       "\n",
       "    .dataframe thead th {\n",
       "        text-align: right;\n",
       "    }\n",
       "</style>\n",
       "<table border=\"1\" class=\"dataframe\">\n",
       "  <thead>\n",
       "    <tr style=\"text-align: right;\">\n",
       "      <th></th>\n",
       "      <th>ID</th>\n",
       "      <th>LIMIT_BAL</th>\n",
       "      <th>AGE</th>\n",
       "      <th>BILL_AMT1</th>\n",
       "      <th>BILL_AMT2</th>\n",
       "      <th>BILL_AMT3</th>\n",
       "      <th>BILL_AMT4</th>\n",
       "      <th>BILL_AMT5</th>\n",
       "      <th>BILL_AMT6</th>\n",
       "      <th>PAY_AMT1</th>\n",
       "      <th>PAY_AMT2</th>\n",
       "      <th>PAY_AMT3</th>\n",
       "      <th>PAY_AMT4</th>\n",
       "      <th>PAY_AMT5</th>\n",
       "      <th>PAY_AMT6</th>\n",
       "    </tr>\n",
       "  </thead>\n",
       "  <tbody>\n",
       "    <tr>\n",
       "      <th>count</th>\n",
       "      <td>30000.000000</td>\n",
       "      <td>30000.000000</td>\n",
       "      <td>30000.000000</td>\n",
       "      <td>30000.000000</td>\n",
       "      <td>30000.000000</td>\n",
       "      <td>30000.000000</td>\n",
       "      <td>30000.00000</td>\n",
       "      <td>30000.000000</td>\n",
       "      <td>30000.000000</td>\n",
       "      <td>30000.000000</td>\n",
       "      <td>3.000000e+04</td>\n",
       "      <td>30000.000000</td>\n",
       "      <td>30000.000000</td>\n",
       "      <td>30000.000000</td>\n",
       "      <td>30000.000000</td>\n",
       "    </tr>\n",
       "    <tr>\n",
       "      <th>mean</th>\n",
       "      <td>10666.660700</td>\n",
       "      <td>14.648867</td>\n",
       "      <td>32.427900</td>\n",
       "      <td>33989.494570</td>\n",
       "      <td>33938.750418</td>\n",
       "      <td>32617.867011</td>\n",
       "      <td>30709.50416</td>\n",
       "      <td>29015.123424</td>\n",
       "      <td>28526.276559</td>\n",
       "      <td>2613.957537</td>\n",
       "      <td>2.922762e+03</td>\n",
       "      <td>2584.508988</td>\n",
       "      <td>2250.186122</td>\n",
       "      <td>2300.375885</td>\n",
       "      <td>2608.765760</td>\n",
       "    </tr>\n",
       "    <tr>\n",
       "      <th>std</th>\n",
       "      <td>9698.091793</td>\n",
       "      <td>189.496507</td>\n",
       "      <td>12.718991</td>\n",
       "      <td>59472.881131</td>\n",
       "      <td>58305.224138</td>\n",
       "      <td>55777.906879</td>\n",
       "      <td>51825.29715</td>\n",
       "      <td>48612.594594</td>\n",
       "      <td>48042.412239</td>\n",
       "      <td>11398.052166</td>\n",
       "      <td>1.675277e+04</td>\n",
       "      <td>10956.873040</td>\n",
       "      <td>9805.177073</td>\n",
       "      <td>9756.444917</td>\n",
       "      <td>11652.208534</td>\n",
       "    </tr>\n",
       "    <tr>\n",
       "      <th>min</th>\n",
       "      <td>1.000000</td>\n",
       "      <td>1.000000</td>\n",
       "      <td>3.000000</td>\n",
       "      <td>-154973.000000</td>\n",
       "      <td>-69777.000000</td>\n",
       "      <td>-157264.000000</td>\n",
       "      <td>-81334.00000</td>\n",
       "      <td>-81334.000000</td>\n",
       "      <td>-94625.000000</td>\n",
       "      <td>1.000000</td>\n",
       "      <td>1.000000e+00</td>\n",
       "      <td>1.000000</td>\n",
       "      <td>1.000000</td>\n",
       "      <td>1.000000</td>\n",
       "      <td>1.000000</td>\n",
       "    </tr>\n",
       "    <tr>\n",
       "      <th>25%</th>\n",
       "      <td>1850.500000</td>\n",
       "      <td>4.000000</td>\n",
       "      <td>26.000000</td>\n",
       "      <td>1788.000000</td>\n",
       "      <td>1847.750000</td>\n",
       "      <td>1862.000000</td>\n",
       "      <td>1782.00000</td>\n",
       "      <td>1718.000000</td>\n",
       "      <td>1724.000000</td>\n",
       "      <td>21.000000</td>\n",
       "      <td>1.900000e+01</td>\n",
       "      <td>15.000000</td>\n",
       "      <td>13.000000</td>\n",
       "      <td>13.000000</td>\n",
       "      <td>15.000000</td>\n",
       "    </tr>\n",
       "    <tr>\n",
       "      <th>50%</th>\n",
       "      <td>7483.500000</td>\n",
       "      <td>9.000000</td>\n",
       "      <td>33.000000</td>\n",
       "      <td>11569.000000</td>\n",
       "      <td>12637.000000</td>\n",
       "      <td>13255.000000</td>\n",
       "      <td>13350.00000</td>\n",
       "      <td>12847.000000</td>\n",
       "      <td>13398.500000</td>\n",
       "      <td>512.000000</td>\n",
       "      <td>5.150000e+02</td>\n",
       "      <td>431.000000</td>\n",
       "      <td>367.000000</td>\n",
       "      <td>387.000000</td>\n",
       "      <td>478.000000</td>\n",
       "    </tr>\n",
       "    <tr>\n",
       "      <th>75%</th>\n",
       "      <td>18746.250000</td>\n",
       "      <td>21.000000</td>\n",
       "      <td>41.000000</td>\n",
       "      <td>33989.494570</td>\n",
       "      <td>33938.750418</td>\n",
       "      <td>32617.867011</td>\n",
       "      <td>30709.50416</td>\n",
       "      <td>29015.123424</td>\n",
       "      <td>28526.276559</td>\n",
       "      <td>2613.957537</td>\n",
       "      <td>2.922762e+03</td>\n",
       "      <td>2584.508988</td>\n",
       "      <td>2250.186122</td>\n",
       "      <td>2300.375885</td>\n",
       "      <td>2608.765760</td>\n",
       "    </tr>\n",
       "    <tr>\n",
       "      <th>max</th>\n",
       "      <td>29999.000000</td>\n",
       "      <td>32768.000000</td>\n",
       "      <td>79.000000</td>\n",
       "      <td>964511.000000</td>\n",
       "      <td>983931.000000</td>\n",
       "      <td>693131.000000</td>\n",
       "      <td>891586.00000</td>\n",
       "      <td>927171.000000</td>\n",
       "      <td>961664.000000</td>\n",
       "      <td>873552.000000</td>\n",
       "      <td>1.684259e+06</td>\n",
       "      <td>417588.000000</td>\n",
       "      <td>528897.000000</td>\n",
       "      <td>426529.000000</td>\n",
       "      <td>528666.000000</td>\n",
       "    </tr>\n",
       "  </tbody>\n",
       "</table>\n",
       "</div>"
      ],
      "text/plain": [
       "                 ID     LIMIT_BAL           AGE      BILL_AMT1      BILL_AMT2  \\\n",
       "count  30000.000000  30000.000000  30000.000000   30000.000000   30000.000000   \n",
       "mean   10666.660700     14.648867     32.427900   33989.494570   33938.750418   \n",
       "std     9698.091793    189.496507     12.718991   59472.881131   58305.224138   \n",
       "min        1.000000      1.000000      3.000000 -154973.000000  -69777.000000   \n",
       "25%     1850.500000      4.000000     26.000000    1788.000000    1847.750000   \n",
       "50%     7483.500000      9.000000     33.000000   11569.000000   12637.000000   \n",
       "75%    18746.250000     21.000000     41.000000   33989.494570   33938.750418   \n",
       "max    29999.000000  32768.000000     79.000000  964511.000000  983931.000000   \n",
       "\n",
       "           BILL_AMT3     BILL_AMT4      BILL_AMT5      BILL_AMT6  \\\n",
       "count   30000.000000   30000.00000   30000.000000   30000.000000   \n",
       "mean    32617.867011   30709.50416   29015.123424   28526.276559   \n",
       "std     55777.906879   51825.29715   48612.594594   48042.412239   \n",
       "min   -157264.000000  -81334.00000  -81334.000000  -94625.000000   \n",
       "25%      1862.000000    1782.00000    1718.000000    1724.000000   \n",
       "50%     13255.000000   13350.00000   12847.000000   13398.500000   \n",
       "75%     32617.867011   30709.50416   29015.123424   28526.276559   \n",
       "max    693131.000000  891586.00000  927171.000000  961664.000000   \n",
       "\n",
       "            PAY_AMT1      PAY_AMT2       PAY_AMT3       PAY_AMT4  \\\n",
       "count   30000.000000  3.000000e+04   30000.000000   30000.000000   \n",
       "mean     2613.957537  2.922762e+03    2584.508988    2250.186122   \n",
       "std     11398.052166  1.675277e+04   10956.873040    9805.177073   \n",
       "min         1.000000  1.000000e+00       1.000000       1.000000   \n",
       "25%        21.000000  1.900000e+01      15.000000      13.000000   \n",
       "50%       512.000000  5.150000e+02     431.000000     367.000000   \n",
       "75%      2613.957537  2.922762e+03    2584.508988    2250.186122   \n",
       "max    873552.000000  1.684259e+06  417588.000000  528897.000000   \n",
       "\n",
       "            PAY_AMT5       PAY_AMT6  \n",
       "count   30000.000000   30000.000000  \n",
       "mean     2300.375885    2608.765760  \n",
       "std      9756.444917   11652.208534  \n",
       "min         1.000000       1.000000  \n",
       "25%        13.000000      15.000000  \n",
       "50%       387.000000     478.000000  \n",
       "75%      2300.375885    2608.765760  \n",
       "max    426529.000000  528666.000000  "
      ]
     },
     "execution_count": 13,
     "metadata": {},
     "output_type": "execute_result"
    }
   ],
   "source": [
    "df.describe()"
   ]
  },
  {
   "cell_type": "code",
   "execution_count": 15,
   "id": "874c2a89",
   "metadata": {},
   "outputs": [
    {
     "data": {
      "text/plain": [
       "<AxesSubplot:>"
      ]
     },
     "execution_count": 15,
     "metadata": {},
     "output_type": "execute_result"
    },
    {
     "data": {
      "image/png": "[encoded data removed]",
      "text/plain": [
       "<Figure size 432x288 with 1 Axes>"
      ]
     },
     "metadata": {
      "needs_background": "light"
     },
     "output_type": "display_data"
    }
   ],
   "source": [
    "df.LIMIT_BAL.plot(kind='box')"
   ]
  },
  {
   "cell_type": "code",
   "execution_count": 17,
   "id": "7a472913",
   "metadata": {},
   "outputs": [
    {
     "data": {
      "text/plain": [
       "{'whiskers': [<matplotlib.lines.Line2D at 0xa45a11eb20>,\n",
       "  <matplotlib.lines.Line2D at 0xa45a11ee20>],\n",
       " 'caps': [<matplotlib.lines.Line2D at 0xa45a120d90>,\n",
       "  <matplotlib.lines.Line2D at 0xa45a120100>],\n",
       " 'boxes': [<matplotlib.lines.Line2D at 0xa45a11e700>],\n",
       " 'medians': [<matplotlib.lines.Line2D at 0xa45a1200a0>],\n",
       " 'fliers': [<matplotlib.lines.Line2D at 0xa459795130>],\n",
       " 'means': []}"
      ]
     },
     "execution_count": 17,
     "metadata": {},
     "output_type": "execute_result"
    },
    {
     "data": {
      "image/png": "[encoded data removed]",
      "text/plain": [
       "<Figure size 432x288 with 1 Axes>"
      ]
     },
     "metadata": {
      "needs_background": "light"
     },
     "output_type": "display_data"
    }
   ],
   "source": [
    "plt.boxplot(df['AGE'])"
   ]
  },
  {
   "cell_type": "code",
   "execution_count": 19,
   "id": "cf599a69",
   "metadata": {},
   "outputs": [],
   "source": [
    "from sklearn.preprocessing import LabelEncoder"
   ]
  },
  {
   "cell_type": "code",
   "execution_count": 20,
   "id": "0ba297d2",
   "metadata": {},
   "outputs": [],
   "source": [
    "enc =LabelEncoder()"
   ]
  },
  {
   "cell_type": "code",
   "execution_count": 21,
   "id": "ffed35ed",
   "metadata": {},
   "outputs": [],
   "source": [
    "df['Default Status'] = enc.fit_transform(df['Default Status'])"
   ]
  },
  {
   "cell_type": "code",
   "execution_count": 23,
   "id": "573d2402",
   "metadata": {
    "scrolled": true
   },
   "outputs": [
    {
     "data": {
      "text/html": [
       "<div>\n",
       "<style scoped>\n",
       "    .dataframe tbody tr th:only-of-type {\n",
       "        vertical-align: middle;\n",
       "    }\n",
       "\n",
       "    .dataframe tbody tr th {\n",
       "        vertical-align: top;\n",
       "    }\n",
       "\n",
       "    .dataframe thead th {\n",
       "        text-align: right;\n",
       "    }\n",
       "</style>\n",
       "<table border=\"1\" class=\"dataframe\">\n",
       "  <thead>\n",
       "    <tr style=\"text-align: right;\">\n",
       "      <th></th>\n",
       "      <th>ID</th>\n",
       "      <th>LIMIT_BAL</th>\n",
       "      <th>AGE</th>\n",
       "      <th>BILL_AMT1</th>\n",
       "      <th>BILL_AMT2</th>\n",
       "      <th>BILL_AMT3</th>\n",
       "      <th>BILL_AMT4</th>\n",
       "      <th>BILL_AMT5</th>\n",
       "      <th>BILL_AMT6</th>\n",
       "      <th>PAY_AMT1</th>\n",
       "      <th>PAY_AMT2</th>\n",
       "      <th>PAY_AMT3</th>\n",
       "      <th>PAY_AMT4</th>\n",
       "      <th>PAY_AMT5</th>\n",
       "      <th>PAY_AMT6</th>\n",
       "      <th>Default Status</th>\n",
       "    </tr>\n",
       "  </thead>\n",
       "  <tbody>\n",
       "    <tr>\n",
       "      <th>0</th>\n",
       "      <td>1</td>\n",
       "      <td>2.0</td>\n",
       "      <td>24</td>\n",
       "      <td>3913.0</td>\n",
       "      <td>312.0</td>\n",
       "      <td>689.0</td>\n",
       "      <td>30709.50416</td>\n",
       "      <td>29015.123424</td>\n",
       "      <td>28526.276559</td>\n",
       "      <td>2613.957537</td>\n",
       "      <td>689.0</td>\n",
       "      <td>2584.508988</td>\n",
       "      <td>2250.186122</td>\n",
       "      <td>2300.375885</td>\n",
       "      <td>2608.76576</td>\n",
       "      <td>0</td>\n",
       "    </tr>\n",
       "    <tr>\n",
       "      <th>1</th>\n",
       "      <td>2</td>\n",
       "      <td>12.0</td>\n",
       "      <td>26</td>\n",
       "      <td>2682.0</td>\n",
       "      <td>1725.0</td>\n",
       "      <td>2682.0</td>\n",
       "      <td>3272.00000</td>\n",
       "      <td>3455.000000</td>\n",
       "      <td>3261.000000</td>\n",
       "      <td>2613.957537</td>\n",
       "      <td>1.0</td>\n",
       "      <td>1.000000</td>\n",
       "      <td>1.000000</td>\n",
       "      <td>2300.375885</td>\n",
       "      <td>2.00000</td>\n",
       "      <td>0</td>\n",
       "    </tr>\n",
       "    <tr>\n",
       "      <th>2</th>\n",
       "      <td>3</td>\n",
       "      <td>9.0</td>\n",
       "      <td>34</td>\n",
       "      <td>29239.0</td>\n",
       "      <td>1427.0</td>\n",
       "      <td>13559.0</td>\n",
       "      <td>14331.00000</td>\n",
       "      <td>14948.000000</td>\n",
       "      <td>15549.000000</td>\n",
       "      <td>1518.000000</td>\n",
       "      <td>15.0</td>\n",
       "      <td>1.000000</td>\n",
       "      <td>1.000000</td>\n",
       "      <td>1.000000</td>\n",
       "      <td>5.00000</td>\n",
       "      <td>1</td>\n",
       "    </tr>\n",
       "    <tr>\n",
       "      <th>3</th>\n",
       "      <td>4</td>\n",
       "      <td>5.0</td>\n",
       "      <td>37</td>\n",
       "      <td>4699.0</td>\n",
       "      <td>48233.0</td>\n",
       "      <td>49291.0</td>\n",
       "      <td>28314.00000</td>\n",
       "      <td>28959.000000</td>\n",
       "      <td>29547.000000</td>\n",
       "      <td>2.000000</td>\n",
       "      <td>219.0</td>\n",
       "      <td>12.000000</td>\n",
       "      <td>11.000000</td>\n",
       "      <td>169.000000</td>\n",
       "      <td>1.00000</td>\n",
       "      <td>1</td>\n",
       "    </tr>\n",
       "    <tr>\n",
       "      <th>4</th>\n",
       "      <td>5</td>\n",
       "      <td>5.0</td>\n",
       "      <td>57</td>\n",
       "      <td>8617.0</td>\n",
       "      <td>567.0</td>\n",
       "      <td>35835.0</td>\n",
       "      <td>294.00000</td>\n",
       "      <td>19146.000000</td>\n",
       "      <td>19131.000000</td>\n",
       "      <td>2.000000</td>\n",
       "      <td>36681.0</td>\n",
       "      <td>1.000000</td>\n",
       "      <td>9.000000</td>\n",
       "      <td>689.000000</td>\n",
       "      <td>679.00000</td>\n",
       "      <td>1</td>\n",
       "    </tr>\n",
       "  </tbody>\n",
       "</table>\n",
       "</div>"
      ],
      "text/plain": [
       "   ID  LIMIT_BAL  AGE  BILL_AMT1  BILL_AMT2  BILL_AMT3    BILL_AMT4  \\\n",
       "0   1        2.0   24     3913.0      312.0      689.0  30709.50416   \n",
       "1   2       12.0   26     2682.0     1725.0     2682.0   3272.00000   \n",
       "2   3        9.0   34    29239.0     1427.0    13559.0  14331.00000   \n",
       "3   4        5.0   37     4699.0    48233.0    49291.0  28314.00000   \n",
       "4   5        5.0   57     8617.0      567.0    35835.0    294.00000   \n",
       "\n",
       "      BILL_AMT5     BILL_AMT6     PAY_AMT1  PAY_AMT2     PAY_AMT3  \\\n",
       "0  29015.123424  28526.276559  2613.957537     689.0  2584.508988   \n",
       "1   3455.000000   3261.000000  2613.957537       1.0     1.000000   \n",
       "2  14948.000000  15549.000000  1518.000000      15.0     1.000000   \n",
       "3  28959.000000  29547.000000     2.000000     219.0    12.000000   \n",
       "4  19146.000000  19131.000000     2.000000   36681.0     1.000000   \n",
       "\n",
       "      PAY_AMT4     PAY_AMT5    PAY_AMT6  Default Status  \n",
       "0  2250.186122  2300.375885  2608.76576               0  \n",
       "1     1.000000  2300.375885     2.00000               0  \n",
       "2     1.000000     1.000000     5.00000               1  \n",
       "3    11.000000   169.000000     1.00000               1  \n",
       "4     9.000000   689.000000   679.00000               1  "
      ]
     },
     "execution_count": 23,
     "metadata": {},
     "output_type": "execute_result"
    }
   ],
   "source": [
    "df.head()"
   ]
  },
  {
   "cell_type": "code",
   "execution_count": 28,
   "id": "a51248fb",
   "metadata": {},
   "outputs": [],
   "source": [
    "x=df.drop('Default Status',axis=1)\n",
    "y=df['Default Status']"
   ]
  },
  {
   "cell_type": "code",
   "execution_count": 29,
   "id": "f3859aff",
   "metadata": {},
   "outputs": [],
   "source": [
    "from sklearn.model_selection import train_test_split\n",
    "x_train,x_test,y_train,y_test=train_test_split(x,y,test_size=0.2,random_state=0)"
   ]
  },
  {
   "cell_type": "code",
   "execution_count": 32,
   "id": "ca24c2bc",
   "metadata": {},
   "outputs": [],
   "source": [
    "from sklearn.naive_bayes import GaussianNB"
   ]
  },
  {
   "cell_type": "code",
   "execution_count": 34,
   "id": "fe9a5dc7",
   "metadata": {},
   "outputs": [
    {
     "data": {
      "text/plain": [
       "GaussianNB()"
      ]
     },
     "execution_count": 34,
     "metadata": {},
     "output_type": "execute_result"
    }
   ],
   "source": [
    "clf = GaussianNB()\n",
    "clf.fit(x_train,y_train)"
   ]
  },
  {
   "cell_type": "code",
   "execution_count": 37,
   "id": "951df8f5",
   "metadata": {},
   "outputs": [
    {
     "data": {
      "text/plain": [
       "0.7476666666666667"
      ]
     },
     "execution_count": 37,
     "metadata": {},
     "output_type": "execute_result"
    }
   ],
   "source": [
    "clf.score(x_train,y_train)"
   ]
  },
  {
   "cell_type": "code",
   "execution_count": 38,
   "id": "9f9b7c23",
   "metadata": {},
   "outputs": [
    {
     "data": {
      "text/plain": [
       "0.7533333333333333"
      ]
     },
     "execution_count": 38,
     "metadata": {},
     "output_type": "execute_result"
    }
   ],
   "source": [
    "clf.score(x_test,y_test)"
   ]
  },
  {
   "cell_type": "code",
   "execution_count": 42,
   "id": "03ad48ad",
   "metadata": {},
   "outputs": [],
   "source": [
    "from sklearn.metrics import accuracy_score,f1_score,classification_report,precision_score,confusion_matrix,recall_score"
   ]
  },
  {
   "cell_type": "code",
   "execution_count": 41,
   "id": "ff620f55",
   "metadata": {},
   "outputs": [],
   "source": [
    "y_pred=clf.predict(x_test)"
   ]
  },
  {
   "cell_type": "code",
   "execution_count": 43,
   "id": "0f32c648",
   "metadata": {},
   "outputs": [
    {
     "name": "stdout",
     "output_type": "stream",
     "text": [
      "accuracy: 0.7533333333333333\n",
      "precision: 0.781190019193858\n",
      "recall: 0.951945566659579\n",
      "f1: 0.8581560283687943\n"
     ]
    }
   ],
   "source": [
    "print('accuracy:', accuracy_score(y_test,y_pred))\n",
    "print('precision:', precision_score(y_test,y_pred))\n",
    "print('recall:', recall_score(y_test,y_pred))\n",
    "print('f1:', f1_score(y_test,y_pred))"
   ]
  },
  {
   "cell_type": "code",
   "execution_count": 44,
   "id": "5a546d78",
   "metadata": {},
   "outputs": [
    {
     "data": {
      "text/plain": [
       "array([[  43, 1254],\n",
       "       [ 226, 4477]], dtype=int64)"
      ]
     },
     "execution_count": 44,
     "metadata": {},
     "output_type": "execute_result"
    }
   ],
   "source": [
    "confusion_matrix(y_test,y_pred)"
   ]
  },
  {
   "cell_type": "code",
   "execution_count": 47,
   "id": "b44bd8e5",
   "metadata": {},
   "outputs": [
    {
     "name": "stdout",
     "output_type": "stream",
     "text": [
      "              precision    recall  f1-score   support\n",
      "\n",
      "           0       0.16      0.03      0.05      1297\n",
      "           1       0.78      0.95      0.86      4703\n",
      "\n",
      "    accuracy                           0.75      6000\n",
      "   macro avg       0.47      0.49      0.46      6000\n",
      "weighted avg       0.65      0.75      0.68      6000\n",
      "\n"
     ]
    }
   ],
   "source": [
    "print(classification_report(y_test,y_pred))"
   ]
  },
  {
   "cell_type": "code",
   "execution_count": null,
   "id": "8dd9a2c6",
   "metadata": {},
   "outputs": [],
   "source": []
  }
 ],
 "metadata": {
  "kernelspec": {
   "display_name": "Python 3",
   "language": "python",
   "name": "python3"
  },
  "language_info": {
   "codemirror_mode": {
    "name": "ipython",
    "version": 3
   },
   "file_extension": ".py",
   "mimetype": "text/x-python",
   "name": "python",
   "nbconvert_exporter": "python",
   "pygments_lexer": "ipython3",
   "version": "3.8.8"
  }
 },
 "nbformat": 4,
 "nbformat_minor": 5
}
